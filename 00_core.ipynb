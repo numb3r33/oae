{
 "cells": [
  {
   "cell_type": "code",
   "execution_count": null,
   "metadata": {},
   "outputs": [],
   "source": [
    "# default_exp core"
   ]
  },
  {
   "cell_type": "markdown",
   "metadata": {},
   "source": [
    "# Core\n",
    "\n",
    "> Basic data generation utility."
   ]
  },
  {
   "cell_type": "code",
   "execution_count": null,
   "metadata": {},
   "outputs": [],
   "source": [
    "#hide\n",
    "from nbdev.showdoc import *"
   ]
  },
  {
   "cell_type": "code",
   "execution_count": null,
   "metadata": {},
   "outputs": [],
   "source": [
    "#hide\n",
    "%load_ext autoreload\n",
    "%autoreload 2"
   ]
  },
  {
   "cell_type": "code",
   "execution_count": null,
   "metadata": {},
   "outputs": [],
   "source": [
    "#export\n",
    "import numpy as np\n",
    "import pandas as pd\n",
    "\n",
    "from sklearn.datasets import make_classification\n",
    "from sklearn.model_selection import train_test_split as tts\n",
    "\n",
    "URLS = {}\n",
    "URLS['BREAST_CANCER'] = 'https://archive.ics.uci.edu/ml/machine-learning-databases/breast-cancer-wisconsin/breast-cancer-wisconsin.data'"
   ]
  },
  {
   "cell_type": "code",
   "execution_count": null,
   "metadata": {},
   "outputs": [],
   "source": [
    "#export\n",
    "_all_ = ['get_example_dataset', 'get_external_dataset']"
   ]
  },
  {
   "cell_type": "code",
   "execution_count": null,
   "metadata": {},
   "outputs": [],
   "source": [
    "#export\n",
    "def get_example_dataset(SEED):\n",
    "    X, y = make_classification(n_samples = 100, n_features=5, random_state=SEED)\n",
    "    Xtr, Xte, ytr, yte = tts(X, y, test_size=0.2, random_state=SEED)\n",
    "    \n",
    "    return Xtr, Xte, ytr, yte"
   ]
  },
  {
   "cell_type": "code",
   "execution_count": null,
   "metadata": {},
   "outputs": [],
   "source": [
    "#export\n",
    "def get_external_dataset(url):\n",
    "    if url == URLS['BREAST_CANCER']:\n",
    "        data = pd.read_csv(url, header=None)\n",
    "        columns = ['code_number',\n",
    "                   'clump_thickness',\n",
    "                   'cell_size_uniformity',\n",
    "                   'cell_shape_uniformity',\n",
    "                   'marginal_adhesion',\n",
    "                   'single_epithelial_cell_size',\n",
    "                   'bare_nuclei',\n",
    "                   'bland_chromatin',\n",
    "                   'normal_nucleoli',\n",
    "                   'mitoses',\n",
    "                   'target'\n",
    "                  ]\n",
    "        data.columns = columns\n",
    "        return data"
   ]
  },
  {
   "cell_type": "markdown",
   "metadata": {},
   "source": [
    "## Export"
   ]
  },
  {
   "cell_type": "code",
   "execution_count": null,
   "metadata": {},
   "outputs": [
    {
     "name": "stdout",
     "output_type": "stream",
     "text": [
      "Converted 00_core.ipynb.\n",
      "Converted 01_Representation.ipynb.\n",
      "Converted 02_Optimizer.ipynb.\n",
      "Converted index.ipynb.\n"
     ]
    }
   ],
   "source": [
    "from nbdev.export import *\n",
    "notebook2script()"
   ]
  }
 ],
 "metadata": {
  "kernelspec": {
   "display_name": "oae_env",
   "language": "python",
   "name": "oae_env"
  }
 },
 "nbformat": 4,
 "nbformat_minor": 2
}
