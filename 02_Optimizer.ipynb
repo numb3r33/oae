{
 "cells": [
  {
   "cell_type": "code",
   "execution_count": null,
   "metadata": {},
   "outputs": [],
   "source": [
    "# default_exp optimizer"
   ]
  },
  {
   "cell_type": "code",
   "execution_count": null,
   "metadata": {},
   "outputs": [],
   "source": [
    "#hide\n",
    "%load_ext autoreload\n",
    "%autoreload 2"
   ]
  },
  {
   "cell_type": "code",
   "execution_count": null,
   "metadata": {},
   "outputs": [],
   "source": [
    "#hide\n",
    "from nbdev.showdoc import *"
   ]
  },
  {
   "cell_type": "code",
   "execution_count": null,
   "metadata": {},
   "outputs": [],
   "source": [
    "#export\n",
    "import re\n",
    "import IPython, graphviz\n",
    "\n",
    "import numpy as np\n",
    "import pandas as pd\n",
    "\n",
    "from sklearn.ensemble import RandomForestClassifier, RandomForestRegressor\n",
    "from sklearn.tree import export_graphviz\n",
    "\n",
    "from mip import Model, xsum, minimize, BINARY\n",
    "\n",
    "from oae.core import *\n",
    "from oae.tree import *\n",
    "\n",
    "SEED = 41\n",
    "np.random.seed(SEED)"
   ]
  },
  {
   "cell_type": "markdown",
   "metadata": {},
   "source": [
    "# Optimizer\n",
    "\n",
    "> Module that helps solve ILP ( Integer Linear Programming ) problem."
   ]
  },
  {
   "cell_type": "code",
   "execution_count": null,
   "metadata": {},
   "outputs": [],
   "source": [
    "def draw_tree(t, df, size=10, ratio=0.6, precision=0):\n",
    "    s=export_graphviz(t, out_file=None, feature_names=df.columns, filled=True,\n",
    "                      special_characters=True, rotate=True, precision=precision)\n",
    "    IPython.display.display(graphviz.Source(re.sub('Tree {',\n",
    "       f'Tree {{ size={size}; ratio={ratio}', s)))"
   ]
  },
  {
   "cell_type": "code",
   "execution_count": null,
   "metadata": {},
   "outputs": [],
   "source": [
    "Xtr, Xte, ytr, yte = get_example_dataset(SEED)"
   ]
  },
  {
   "cell_type": "code",
   "execution_count": null,
   "metadata": {},
   "outputs": [
    {
     "data": {
      "text/plain": [
       "RandomForestClassifier(max_depth=3, n_estimators=5, n_jobs=-1, random_state=41)"
      ]
     },
     "execution_count": null,
     "metadata": {},
     "output_type": "execute_result"
    }
   ],
   "source": [
    "clf = RandomForestClassifier(n_estimators=5, max_depth=3, random_state=SEED, n_jobs=-1)\n",
    "clf.fit(Xtr, ytr)"
   ]
  },
  {
   "cell_type": "code",
   "execution_count": null,
   "metadata": {},
   "outputs": [],
   "source": [
    "df_trn = pd.DataFrame(Xtr, columns=[f'f_{i}' for i in range(5)])\n",
    "#draw_tree(clf.estimators_[0], df_trn, precision=3)"
   ]
  },
  {
   "cell_type": "code",
   "execution_count": null,
   "metadata": {},
   "outputs": [],
   "source": [
    "#export\n",
    "class Optimizer:\n",
    "    def __init__(self, c_i_j, combine, z, class_):\n",
    "        self.c_i_j = c_i_j\n",
    "        self.combine = combine\n",
    "        self.z = z\n",
    "        self.class_ = class_\n",
    "        \n",
    "    def solve(self, atm:ATMSKLEARN, x:Instance):\n",
    "        partitions  = atm.v_i_j(x)\n",
    "        cost_matrix = self.c_i_j(partitions, x.content)\n",
    "        \n",
    "        model = Model()\n",
    "        \n",
    "        trees = atm.get_trees()\n",
    "        \n",
    "        # make v_i_j and phi_t_k as boolean variable in the integer linear programming problem\n",
    "        v_i_j   = [[model.add_var(var_type=BINARY) for j in range(len(partitions[i]))] for i in range(len(x.content))]\n",
    "        phi_t_k = [[model.add_var(var_type=BINARY) for j in range(len(atm.get_leaves(t.tree_)))] for t in trees] \n",
    "        \n",
    "        \n",
    "        # objective\n",
    "        model.objective = minimize(xsum(v_i_j[i][j] * cost_matrix[i][j] for i in range(len(v_i_j)) \\\n",
    "                                        for j in range(len(v_i_j[i]))))\n",
    "\n",
    "        # constraints\n",
    "        w_t     = atm.calculate_tree_weights()\n",
    "        h_t_k   = atm.h_t_k(combine, class_=self.class_)\n",
    "        \n",
    "        \n",
    "        model += (xsum(phi_t_k[i][j] * h_t_k[i][j] * w_t[i] for i in range(len(trees)) \\\n",
    "                       for j in range(len(h_t_k[i]))) >= self.z)\n",
    "\n",
    "        #check if feature value belongs to one and only one partition\n",
    "        for i in range(len(x.content)):\n",
    "            model += xsum(v_i_j[i][j] for j in range(len(v_i_j[i]))) == 1\n",
    "        \n",
    "        \n",
    "        for i in range(len(trees)):\n",
    "            tree   = trees[i].tree_\n",
    "            leaves = atm.get_leaves(tree)\n",
    "\n",
    "            pi = {kidx:atm.find_ancestors(tree, 0, k, p=[])[1] for kidx, k in enumerate(leaves)}\n",
    "\n",
    "            for j in range(len(leaves)):\n",
    "                ancestors   = pi[j]\n",
    "                n_ancestors = len(ancestors) # |pi_t_k|\n",
    "                                    \n",
    "                model += xsum(atm.predicates_mask(tree, a, partitions, x.types)[m] * v_i_j[tree.feature[a[0]]][m] \\\n",
    "                              for a in ancestors for m in range(len(v_i_j[tree.feature[a[0]]])))\\\n",
    "                              >= (phi_t_k[i][j] * n_ancestors)\n",
    "\n",
    "        # check if instance is present in one and only one leaf node in\n",
    "        # all trees\n",
    "        for i in range(len(trees)):\n",
    "            tree   = trees[i].tree_\n",
    "            leaves = atm.get_leaves(tree)\n",
    "\n",
    "            model += xsum(phi_t_k[i][j] for j in range(len(leaves))) == 1    \n",
    "\n",
    "        # optimizing\n",
    "        model.optimize()\n",
    "        \n",
    "        v_i_j_sol   = [[int(v_i_j[i][j].x) for j in range(len(v_i_j[i]))] for i in range(len(v_i_j))]\n",
    "        phi_t_k_sol = [[int(phi_t_k[i][j].x) for j in range(len(phi_t_k[i]))] for i in range(len(phi_t_k))]\n",
    "        \n",
    "        return v_i_j_sol, phi_t_k_sol"
   ]
  },
  {
   "cell_type": "code",
   "execution_count": null,
   "metadata": {},
   "outputs": [],
   "source": [
    "#export\n",
    "def cost_matrix(partitions, x, p=0):\n",
    "    C_i_j    = []\n",
    "    \n",
    "    for i in range(len(x)):\n",
    "        s = partitions[i]\n",
    "        feat_cost = []\n",
    "        for j in range(len(s)):\n",
    "            if len(s[j]) > 1:\n",
    "                if (x[i] >= s[j][0]) and (x[i] < s[j][1]):\n",
    "                    feat_cost.append(0)\n",
    "                else:\n",
    "                    feat_cost.append(min((x[i] - s[j][0]) ** p, (x[i] - s[j][1]) ** p))\n",
    "            else:\n",
    "                if x[i] == s[j][0]:\n",
    "                    feat_cost.append(0)\n",
    "                else:\n",
    "                    feat_cost.append(1)\n",
    "        C_i_j.append(feat_cost)\n",
    "    \n",
    "    return C_i_j"
   ]
  },
  {
   "cell_type": "code",
   "execution_count": null,
   "metadata": {},
   "outputs": [],
   "source": [
    "atm      = ATMSKLEARN(clf, np.vstack((Xtr, Xte)))\n",
    "instance = Instance(Xte[10], ['numerical'] * 5)\n",
    "\n",
    "opt = Optimizer(cost_matrix, combine, z=0.55, class_=1)\n",
    "v_i_j_sol, phi_t_k_sol = opt.solve(atm, instance)"
   ]
  },
  {
   "cell_type": "code",
   "execution_count": null,
   "metadata": {},
   "outputs": [
    {
     "data": {
      "text/plain": [
       "[[0, 1, 0, 0, 0, 0, 0],\n",
       " [0, 0, 0, 0, 0, 1, 0],\n",
       " [0, 1, 0, 0, 0, 0, 0, 0],\n",
       " [0, 0, 0, 0, 1],\n",
       " [0, 0, 1, 0]]"
      ]
     },
     "execution_count": null,
     "metadata": {},
     "output_type": "execute_result"
    }
   ],
   "source": [
    "partitions = atm.v_i_j(instance)\n",
    "orig_mask = atm.v_i_j_mask(partitions, instance); orig_mask"
   ]
  },
  {
   "cell_type": "code",
   "execution_count": null,
   "metadata": {},
   "outputs": [
    {
     "data": {
      "text/plain": [
       "['no change, current value: -0.8669707011895302',\n",
       " 'no change, current value: 1.0284841573827033',\n",
       " 'no change, current value: -0.35223477173473217',\n",
       " 'current value: -0.04852384360194605, proposed change: [-100000000.0, -0.16905810683965683]',\n",
       " 'no change, current value: -0.7400914519032277']"
      ]
     },
     "execution_count": null,
     "metadata": {},
     "output_type": "execute_result"
    }
   ],
   "source": [
    "atm.suggest_changes(v_i_j_sol, instance)"
   ]
  },
  {
   "cell_type": "code",
   "execution_count": null,
   "metadata": {},
   "outputs": [
    {
     "data": {
      "text/html": [
       "<div>\n",
       "<style scoped>\n",
       "    .dataframe tbody tr th:only-of-type {\n",
       "        vertical-align: middle;\n",
       "    }\n",
       "\n",
       "    .dataframe tbody tr th {\n",
       "        vertical-align: top;\n",
       "    }\n",
       "\n",
       "    .dataframe thead th {\n",
       "        text-align: right;\n",
       "    }\n",
       "</style>\n",
       "<table border=\"1\" class=\"dataframe\">\n",
       "  <thead>\n",
       "    <tr style=\"text-align: right;\">\n",
       "      <th></th>\n",
       "      <th>f_0</th>\n",
       "      <th>f_1</th>\n",
       "      <th>f_2</th>\n",
       "      <th>f_3</th>\n",
       "      <th>f_4</th>\n",
       "    </tr>\n",
       "  </thead>\n",
       "  <tbody>\n",
       "    <tr>\n",
       "      <th>0</th>\n",
       "      <td>-0.866971</td>\n",
       "      <td>1.028484</td>\n",
       "      <td>-0.352235</td>\n",
       "      <td>-0.169058</td>\n",
       "      <td>-0.740091</td>\n",
       "    </tr>\n",
       "  </tbody>\n",
       "</table>\n",
       "</div>"
      ],
      "text/plain": [
       "        f_0       f_1       f_2       f_3       f_4\n",
       "0 -0.866971  1.028484 -0.352235 -0.169058 -0.740091"
      ]
     },
     "execution_count": null,
     "metadata": {},
     "output_type": "execute_result"
    }
   ],
   "source": [
    "X_transformed = atm.transform(v_i_j_sol, instance); X_transformed"
   ]
  },
  {
   "cell_type": "code",
   "execution_count": null,
   "metadata": {},
   "outputs": [
    {
     "data": {
      "text/plain": [
       "array([[0.90440625, 0.09559375]])"
      ]
     },
     "execution_count": null,
     "metadata": {},
     "output_type": "execute_result"
    }
   ],
   "source": [
    "clf.predict_proba(Xte[10:11])"
   ]
  },
  {
   "cell_type": "code",
   "execution_count": null,
   "metadata": {},
   "outputs": [
    {
     "data": {
      "text/plain": [
       "array([[0.2125, 0.7875]])"
      ]
     },
     "execution_count": null,
     "metadata": {},
     "output_type": "execute_result"
    }
   ],
   "source": [
    "clf.predict_proba(X_transformed)"
   ]
  },
  {
   "cell_type": "markdown",
   "metadata": {},
   "source": [
    "## Export"
   ]
  },
  {
   "cell_type": "code",
   "execution_count": null,
   "metadata": {},
   "outputs": [
    {
     "name": "stdout",
     "output_type": "stream",
     "text": [
      "Converted 00_core.ipynb.\n",
      "Converted 01_Representation.ipynb.\n",
      "Converted 02_Optimizer.ipynb.\n",
      "Converted 03_tutorial_breast_cancer.ipynb.\n",
      "Converted index.ipynb.\n"
     ]
    }
   ],
   "source": [
    "#hide\n",
    "from nbdev.export import notebook2script\n",
    "notebook2script()"
   ]
  }
 ],
 "metadata": {
  "kernelspec": {
   "display_name": "oae_env",
   "language": "python",
   "name": "oae_env"
  }
 },
 "nbformat": 4,
 "nbformat_minor": 4
}
